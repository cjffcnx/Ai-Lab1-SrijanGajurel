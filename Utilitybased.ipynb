{
  "nbformat": 4,
  "nbformat_minor": 0,
  "metadata": {
    "colab": {
      "provenance": [],
      "authorship_tag": "ABX9TyMoL/jrwsaZOA9omRw4RAUo",
      "include_colab_link": true
    },
    "kernelspec": {
      "name": "python3",
      "display_name": "Python 3"
    },
    "language_info": {
      "name": "python"
    }
  },
  "cells": [
    {
      "cell_type": "markdown",
      "metadata": {
        "id": "view-in-github",
        "colab_type": "text"
      },
      "source": [
        "<a href=\"https://colab.research.google.com/github/cjffcnx/Ai-Lab1-SrijanGajurel/blob/main/Utilitybased.ipynb\" target=\"_parent\"><img src=\"https://colab.research.google.com/assets/colab-badge.svg\" alt=\"Open In Colab\"/></a>"
      ]
    },
    {
      "cell_type": "markdown",
      "source": [
        "Utility based vacuum cleaner agent"
      ],
      "metadata": {
        "id": "VU3nMD9PUZqp"
      }
    },
    {
      "cell_type": "code",
      "source": [
        "import random\n",
        "import time\n",
        "import matplotlib.pyplot as plt\n",
        "import matplotlib.patches as patches\n",
        "from IPython.display import clear_output\n",
        "\n",
        "class UtilityBasedVacuumAgent:\n",
        "    def __init__(self, rows=10, cols=10, delay=0.5):\n",
        "        self.rows = rows\n",
        "        self.cols = cols\n",
        "        self.delay = delay\n",
        "        # Environment: 0 (clean) or dirt levels from 1 to 3\n",
        "        self.environment = [[random.choice([0, 1, 2, 3]) for _ in range(cols)] for _ in range(rows)]\n",
        "        self.current_pos = [random.randint(0, rows - 1), random.randint(0, cols - 1)]\n",
        "        self.steps = 0\n",
        "        self.done = False\n",
        "\n",
        "    def is_done(self):\n",
        "        return all(cell == 0 for row in self.environment for cell in row)\n",
        "\n",
        "    def calculate_utility(self, pos):\n",
        "        i, j = pos\n",
        "        dirt_value = self.environment[i][j]\n",
        "        if dirt_value == 0:\n",
        "            return 0\n",
        "        ci, cj = self.current_pos\n",
        "        distance = abs(i - ci) + abs(j - cj)\n",
        "        return dirt_value / (1 + distance)\n",
        "\n",
        "    def select_best_cell(self):\n",
        "        best_cell = None\n",
        "        max_utility = -1\n",
        "        for i in range(self.rows):\n",
        "            for j in range(self.cols):\n",
        "                utility = self.calculate_utility((i, j))\n",
        "                if utility > max_utility:\n",
        "                    max_utility = utility\n",
        "                    best_cell = (i, j)\n",
        "        return best_cell\n",
        "\n",
        "    def move_towards(self, target):\n",
        "        ti, tj = target\n",
        "        ci, cj = self.current_pos\n",
        "        if ci < ti:\n",
        "            self.current_pos[0] += 1\n",
        "        elif ci > ti:\n",
        "            self.current_pos[0] -= 1\n",
        "        elif cj < tj:\n",
        "            self.current_pos[1] += 1\n",
        "        elif cj > tj:\n",
        "            self.current_pos[1] -= 1\n",
        "\n",
        "    def clean(self):\n",
        "        i, j = self.current_pos\n",
        "        if self.environment[i][j] > 0:\n",
        "            print(f\"🧹 Cleaned dirt level {self.environment[i][j]} at {self.current_pos}\")\n",
        "            self.environment[i][j] = 0\n",
        "            return True\n",
        "        return False\n",
        "\n",
        "    def visualize(self):\n",
        "        plt.figure(figsize=(6, 6))\n",
        "        ax = plt.gca()\n",
        "        ax.set_xlim(0, self.cols)\n",
        "        ax.set_ylim(0, self.rows)\n",
        "        ax.set_xticks(range(self.cols + 1))\n",
        "        ax.set_yticks(range(self.rows + 1))\n",
        "        ax.set_xticklabels([])\n",
        "        ax.set_yticklabels([])\n",
        "        ax.grid(True)\n",
        "\n",
        "        for i in range(self.rows):\n",
        "            for j in range(self.cols):\n",
        "                value = self.environment[i][j]\n",
        "                if value == 0:\n",
        "                    color = 'white'\n",
        "                elif value == 1:\n",
        "                    color = 'lightgray'\n",
        "                elif value == 2:\n",
        "                    color = 'gray'\n",
        "                else:\n",
        "                    color = 'black'\n",
        "                rect = patches.Rectangle((j, self.rows - i - 1), 1, 1, edgecolor='black', facecolor=color)\n",
        "                ax.add_patch(rect)\n",
        "\n",
        "        ai, aj = self.current_pos\n",
        "        agent_rect = patches.Rectangle((aj, self.rows - ai - 1), 1, 1, edgecolor='blue', facecolor='blue', alpha=0.6)\n",
        "        ax.add_patch(agent_rect)\n",
        "\n",
        "        ax.set_title(f\"Step: {self.steps}\")\n",
        "        plt.show()\n",
        "\n",
        "    def run(self):\n",
        "        while not self.is_done():\n",
        "            clear_output(wait=True)\n",
        "\n",
        "            target = self.select_best_cell()\n",
        "            if target is None:\n",
        "                self.done = True\n",
        "                break\n",
        "\n",
        "            if self.current_pos == list(target):\n",
        "                self.clean()\n",
        "            else:\n",
        "                self.move_towards(target)\n",
        "\n",
        "            self.steps += 1\n",
        "            self.visualize()\n",
        "            time.sleep(self.delay)\n",
        "\n",
        "        clear_output(wait=True)\n",
        "        print(f\"✅ All cleaning done in {self.steps} steps.\")\n",
        "        self.visualize()\n"
      ],
      "metadata": {
        "id": "NPc8ytt2Ug09"
      },
      "execution_count": 2,
      "outputs": []
    },
    {
      "cell_type": "code",
      "source": [
        "agent = UtilityBasedVacuumAgent(delay=0.3)\n",
        "agent.run()"
      ],
      "metadata": {
        "colab": {
          "base_uri": "https://localhost:8080/",
          "height": 543
        },
        "id": "09e4EpFTUr_1",
        "outputId": "3bcc4739-ff8c-42d3-b637-fe564db3c4f6"
      },
      "execution_count": null,
      "outputs": [
        {
          "output_type": "stream",
          "name": "stdout",
          "text": [
            "🧹 Cleaned dirt level 1 at [1, 7]\n"
          ]
        },
        {
          "output_type": "display_data",
          "data": {
            "text/plain": [
              "<Figure size 600x600 with 1 Axes>"
            ],
            "image/png": "[encoded data removed]"
          },
          "metadata": {}
        }
      ]
    }
  ]
}