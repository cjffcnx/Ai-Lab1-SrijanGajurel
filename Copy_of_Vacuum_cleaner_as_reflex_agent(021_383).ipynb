{
  "nbformat": 4,
  "nbformat_minor": 0,
  "metadata": {
    "colab": {
      "provenance": [],
      "authorship_tag": "ABX9TyMFm/noE/ew9oeE4Kxz9HIV",
      "include_colab_link": true
    },
    "kernelspec": {
      "name": "python3",
      "display_name": "Python 3"
    },
    "language_info": {
      "name": "python"
    }
  },
  "cells": [
    {
      "cell_type": "markdown",
      "metadata": {
        "id": "view-in-github",
        "colab_type": "text"
      },
      "source": [
        "<a href=\"https://colab.research.google.com/github/cjffcnx/Ai-Lab1-SrijanGajurel/blob/main/Copy_of_Vacuum_cleaner_as_reflex_agent(021_383).ipynb\" target=\"_parent\"><img src=\"https://colab.research.google.com/assets/colab-badge.svg\" alt=\"Open In Colab\"/></a>"
      ]
    },
    {
      "cell_type": "markdown",
      "source": [
        "Vacuum cleaner as reflex agent\n"
      ],
      "metadata": {
        "id": "nI5M7tqlQC4Q"
      }
    },
    {
      "cell_type": "code",
      "source": [
        "import random\n",
        "import time\n",
        "import matplotlib.pyplot as plt\n",
        "import matplotlib.patches as patches\n",
        "from IPython.display import clear_output\n",
        "\n",
        "class VacuumAgent:\n",
        "    def __init__(self, rows=10, cols=10, delay=0.5):\n",
        "        self.rows = rows\n",
        "        self.cols = cols\n",
        "        self.delay = delay\n",
        "        self.environment = [[random.randint(0, 1) for _ in range(cols)] for _ in range(rows)]\n",
        "        self.current_pos = [random.randint(0, rows - 1), random.randint(0, cols - 1)]\n",
        "        self.steps = 0\n",
        "        self.done = False\n",
        "\n",
        "    def action(self):\n",
        "        if self.environment[self.current_pos[0]][self.current_pos[1]] == 1:\n",
        "            self.environment[self.current_pos[0]][self.current_pos[1]] = 0\n",
        "            return True\n",
        "        return False\n",
        "\n",
        "    def move(self):\n",
        "        if self.current_pos[1] < self.cols - 1:\n",
        "            self.current_pos[1] += 1\n",
        "        elif self.current_pos[0] < self.rows - 1:\n",
        "            self.current_pos[0] += 1\n",
        "            self.current_pos[1] = 0\n",
        "        else:\n",
        "            # Reached last cell\n",
        "            self.current_pos = [0, 0]\n",
        "\n",
        "    def is_done(self):\n",
        "        return all(cell == 0 for row in self.environment for cell in row)\n",
        "\n",
        "    def visualize(self):\n",
        "        plt.figure(figsize=(6, 6))\n",
        "        ax = plt.gca()\n",
        "        ax.set_xlim(0, self.cols)\n",
        "        ax.set_ylim(0, self.rows)\n",
        "        ax.set_xticks(range(self.cols + 1))\n",
        "        ax.set_yticks(range(self.rows + 1))\n",
        "        ax.set_xticklabels([])\n",
        "        ax.set_yticklabels([])\n",
        "        ax.grid(True)\n",
        "\n",
        "        for i in range(self.rows):\n",
        "            for j in range(self.cols):\n",
        "                color = 'lightgray' if self.environment[i][j] == 1 else 'white'\n",
        "                rect = patches.Rectangle((j, self.rows - i - 1), 1, 1, edgecolor='black', facecolor=color)\n",
        "                ax.add_patch(rect)\n",
        "\n",
        "        ai, aj = self.current_pos\n",
        "        agent_rect = patches.Rectangle((aj, self.rows - ai - 1), 1, 1, edgecolor='red', facecolor='red', alpha=0.6)\n",
        "        ax.add_patch(agent_rect)\n",
        "\n",
        "        ax.set_title(f\"Step: {self.steps}\")\n",
        "        plt.show()\n",
        "\n",
        "    def run(self):\n",
        "        while not self.done:\n",
        "            clear_output(wait=True)\n",
        "\n",
        "            # Check before acting\n",
        "            if self.is_done():\n",
        "                self.done = True\n",
        "                break\n",
        "\n",
        "            if self.action():\n",
        "                print(f\"🧹 Cleaned: {self.current_pos}\")\n",
        "            else:\n",
        "                print(f\"✔️ Already clean: {self.current_pos}\")\n",
        "\n",
        "            self.visualize()\n",
        "            self.move()\n",
        "            self.steps += 1\n",
        "            time.sleep(self.delay)\n",
        "\n",
        "        # Final clean screen\n",
        "        clear_output(wait=True)\n",
        "        print(f\"✅ Cleaning complete in {self.steps} steps!\")\n",
        "        self.visualize()\n"
      ],
      "metadata": {
        "id": "O2MGPN7BQHxQ"
      },
      "execution_count": 5,
      "outputs": []
    },
    {
      "cell_type": "code",
      "source": [
        "agent = VacuumAgent(delay=0.4)\n",
        "agent.run()"
      ],
      "metadata": {
        "colab": {
          "base_uri": "https://localhost:8080/",
          "height": 543
        },
        "id": "nOuSCa5QQKr8",
        "outputId": "1e1ac216-90a4-43dd-b1fe-160bae684f54"
      },
      "execution_count": 6,
      "outputs": [
        {
          "output_type": "stream",
          "name": "stdout",
          "text": [
            "✅ Cleaning complete in 99 steps!\n"
          ]
        },
        {
          "output_type": "display_data",
          "data": {
            "text/plain": [
              "<Figure size 600x600 with 1 Axes>"
            ],
            "image/png": "[encoded data removed]"
          },
          "metadata": {}
        }
      ]
    }
  ]
}