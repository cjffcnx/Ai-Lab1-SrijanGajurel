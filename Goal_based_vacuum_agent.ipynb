{
  "nbformat": 4,
  "nbformat_minor": 0,
  "metadata": {
    "colab": {
      "provenance": [],
      "authorship_tag": "ABX9TyMP/EuV+FMQznuuaM4yAcw6",
      "include_colab_link": true
    },
    "kernelspec": {
      "name": "python3",
      "display_name": "Python 3"
    },
    "language_info": {
      "name": "python"
    }
  },
  "cells": [
    {
      "cell_type": "markdown",
      "metadata": {
        "id": "view-in-github",
        "colab_type": "text"
      },
      "source": [
        "<a href=\"https://colab.research.google.com/github/cjffcnx/Ai-Lab1-SrijanGajurel/blob/main/Goal_based_vacuum_agent.ipynb\" target=\"_parent\"><img src=\"https://colab.research.google.com/assets/colab-badge.svg\" alt=\"Open In Colab\"/></a>"
      ]
    },
    {
      "cell_type": "code",
      "execution_count": 1,
      "metadata": {
        "id": "Ca8UW6ImS9aF"
      },
      "outputs": [],
      "source": [
        "import random\n",
        "import time\n",
        "import matplotlib.pyplot as plt\n",
        "import matplotlib.patches as patches\n",
        "from IPython.display import clear_output\n",
        "\n",
        "class GoalBasedVacuumAgent:\n",
        "    def __init__(self, rows=10, cols=10, delay=0.5):\n",
        "        self.rows = rows\n",
        "        self.cols = cols\n",
        "        self.delay = delay\n",
        "        self.environment = [[random.randint(0, 1) for _ in range(cols)] for _ in range(rows)]\n",
        "        self.current_pos = [random.randint(0, rows - 1), random.randint(0, cols - 1)]\n",
        "        self.steps = 0\n",
        "        self.done = False\n",
        "\n",
        "    def is_done(self):\n",
        "        return all(cell == 0 for row in self.environment for cell in row)\n",
        "\n",
        "    def find_nearest_dirty_cell(self):\n",
        "        dirty_cells = [(i, j) for i in range(self.rows) for j in range(self.cols) if self.environment[i][j] == 1]\n",
        "        if not dirty_cells:\n",
        "            return None\n",
        "        ci, cj = self.current_pos\n",
        "        # Return the dirty cell with minimum Manhattan distance\n",
        "        return min(dirty_cells, key=lambda pos: abs(pos[0] - ci) + abs(pos[1] - cj))\n",
        "\n",
        "    def move_towards(self, target):\n",
        "        ti, tj = target\n",
        "        ci, cj = self.current_pos\n",
        "        if ci < ti:\n",
        "            self.current_pos[0] += 1\n",
        "        elif ci > ti:\n",
        "            self.current_pos[0] -= 1\n",
        "        elif cj < tj:\n",
        "            self.current_pos[1] += 1\n",
        "        elif cj > tj:\n",
        "            self.current_pos[1] -= 1\n",
        "\n",
        "    def clean(self):\n",
        "        i, j = self.current_pos\n",
        "        if self.environment[i][j] == 1:\n",
        "            self.environment[i][j] = 0\n",
        "            return True\n",
        "        return False\n",
        "\n",
        "    def visualize(self):\n",
        "        plt.figure(figsize=(6, 6))\n",
        "        ax = plt.gca()\n",
        "        ax.set_xlim(0, self.cols)\n",
        "        ax.set_ylim(0, self.rows)\n",
        "        ax.set_xticks(range(self.cols + 1))\n",
        "        ax.set_yticks(range(self.rows + 1))\n",
        "        ax.set_xticklabels([])\n",
        "        ax.set_yticklabels([])\n",
        "        ax.grid(True)\n",
        "\n",
        "        for i in range(self.rows):\n",
        "            for j in range(self.cols):\n",
        "                color = 'lightgray' if self.environment[i][j] == 1 else 'white'\n",
        "                rect = patches.Rectangle((j, self.rows - i - 1), 1, 1, edgecolor='black', facecolor=color)\n",
        "                ax.add_patch(rect)\n",
        "\n",
        "        ai, aj = self.current_pos\n",
        "        agent_rect = patches.Rectangle((aj, self.rows - ai - 1), 1, 1, edgecolor='blue', facecolor='blue', alpha=0.6)\n",
        "        ax.add_patch(agent_rect)\n",
        "\n",
        "        ax.set_title(f\"Step: {self.steps}\")\n",
        "        plt.show()\n",
        "\n",
        "    def run(self):\n",
        "        while not self.is_done():\n",
        "            clear_output(wait=True)\n",
        "\n",
        "            target = self.find_nearest_dirty_cell()\n",
        "            if target is None:\n",
        "                self.done = True\n",
        "                break\n",
        "\n",
        "            if self.current_pos == list(target):\n",
        "                if self.clean():\n",
        "                    print(f\"🧹 Cleaned: {self.current_pos}\")\n",
        "                else:\n",
        "                    print(f\"⚠️ Already clean: {self.current_pos}\")\n",
        "            else:\n",
        "                self.move_towards(target)\n",
        "                print(f\"➡️ Moving to {target} | Current: {self.current_pos}\")\n",
        "\n",
        "            self.steps += 1\n",
        "            self.visualize()\n",
        "            time.sleep(self.delay)\n",
        "\n",
        "        clear_output(wait=True)\n",
        "        print(f\"✅ Goal achieved! All cells clean in {self.steps} steps.\")\n",
        "        self.visualize()\n"
      ]
    },
    {
      "cell_type": "code",
      "source": [
        "agent = GoalBasedVacuumAgent(delay=0.3)\n",
        "agent.run()"
      ],
      "metadata": {
        "colab": {
          "base_uri": "https://localhost:8080/",
          "height": 543
        },
        "id": "9wdMu3knTGk7",
        "outputId": "6f4ea295-ee2d-4c42-9d92-f6c43aa43bba"
      },
      "execution_count": 2,
      "outputs": [
        {
          "output_type": "stream",
          "name": "stdout",
          "text": [
            "✅ Goal achieved! All cells clean in 140 steps.\n"
          ]
        },
        {
          "output_type": "display_data",
          "data": {
            "text/plain": [
              "<Figure size 600x600 with 1 Axes>"
            ],
            "image/png": "[encoded data removed]"
          },
          "metadata": {}
        }
      ]
    }
  ]
}